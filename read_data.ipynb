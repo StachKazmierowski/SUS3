{
 "cells": [
  {
   "cell_type": "code",
   "execution_count": null,
   "metadata": {},
   "outputs": [],
   "source": [
    "import torch\n",
    "import torchvision\n",
    "from torchvision import datasets, transforms\n",
    "from torch.utils import data\n",
    "import matplotlib.pyplot as plt\n",
    "import numpy as np\n",
    "from torch.autograd import Variable\n",
    "from torch.nn import Linear, ReLU, CrossEntropyLoss, Sequential, Conv2d, MaxPool2d, Module, Softmax, BatchNorm2d, Dropout\n",
    "from torch.optim import Adam, SGD\n",
    "from torchvision import models\n",
    "\n",
    "train_set = datasets.ImageFolder(root = 'data',\n",
    "                transform = transforms.ToTensor())"
   ]
  },
  {
   "cell_type": "code",
   "execution_count": null,
   "metadata": {},
   "outputs": [],
   "source": [
    "def imshow(data):\n",
    "    for img,_ in data:\n",
    "        plt.imshow(img.permute(1,2,0).numpy())\n",
    "        plt.show()\n",
    "\n",
    "\n",
    "def imshow_many(imgs):\n",
    "    n = len(imgs)\n",
    "    if n < 20:\n",
    "        cols = 5\n",
    "        rows = int((n + 4) / 5)\n",
    "        fig = plt.figure(figsize=(cols * 4, rows * 4))\n",
    "    else:\n",
    "        cols = 10\n",
    "        rows = int((n + 9) / 10)\n",
    "        fig = plt.figure(figsize=(cols * 2, rows * 2))\n",
    "\n",
    "    for i in range(n):\n",
    "        sub = fig.add_subplot(rows, cols, i + 1)\n",
    "        sub.imshow(imgs[i][0].permute(1,2,0).numpy(), interpolation='nearest')\n",
    "    plt.show()"
   ]
  },
  {
   "cell_type": "code",
   "execution_count": null,
   "metadata": {},
   "outputs": [],
   "source": [
    "print(len(train_set))\n",
    "\n",
    "imshow_many([train_set[i] for i in range(10)])"
   ]
  },
  {
   "cell_type": "code",
   "execution_count": null,
   "metadata": {},
   "outputs": [],
   "source": [
    "model = models.squeezenet1_1(pretrained=True)\n",
    "for param in model.parameters():\n",
    "    param.requires_grad = False\n",
    "print(model)\n",
    "\n",
    "#%%\n",
    "print(model.parameters())\n",
    "\n",
    "def forward(x):\n",
    "    model.features"
   ]
  }
 ],
 "metadata": {
  "kernelspec": {
   "display_name": "Python 3",
   "language": "python",
   "name": "python3"
  },
  "language_info": {
   "codemirror_mode": {
    "name": "ipython",
    "version": 3
   },
   "file_extension": ".py",
   "mimetype": "text/x-python",
   "name": "python",
   "nbconvert_exporter": "python",
   "pygments_lexer": "ipython3",
   "version": "3.7.4"
  }
 },
 "nbformat": 4,
 "nbformat_minor": 4
}
