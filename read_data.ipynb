{
 "cells": [
  {
   "cell_type": "code",
   "execution_count": 1,
   "metadata": {},
   "outputs": [],
   "source": [
    "import torch\n",
    "import torchvision\n",
    "from torchvision import datasets, transforms\n",
    "from torch.utils import data\n",
    "import matplotlib.pyplot as plt\n",
    "import numpy as np\n",
    "from torch.autograd import Variable\n",
    "from torch.nn import Linear, ReLU, CrossEntropyLoss, Sequential, Conv2d, MaxPool2d, Module, Softmax, BatchNorm2d, Dropout\n",
    "from torch.optim import Adam, SGD\n",
    "from torchvision import models\n",
    "\n",
    "train_set = datasets.ImageFolder(root = './data/zajads_sample',\n",
    "                transform = transforms.ToTensor())"
   ]
  },
  {
   "cell_type": "code",
   "execution_count": 2,
   "metadata": {},
   "outputs": [],
   "source": [
    "def imshow(data):\n",
    "    for img,_ in data:\n",
    "        plt.imshow(img.permute(1,2,0).numpy())\n",
    "        plt.show()\n",
    "\n",
    "\n",
    "def imshow_many(imgs):\n",
    "    n = len(imgs)\n",
    "    if n < 20:\n",
    "        cols = 5\n",
    "        rows = int((n + 4) / 5)\n",
    "        fig = plt.figure(figsize=(cols * 4, rows * 4))\n",
    "    else:\n",
    "        cols = 10\n",
    "        rows = int((n + 9) / 10)\n",
    "        fig = plt.figure(figsize=(cols * 2, rows * 2))\n",
    "\n",
    "    for i in range(n):\n",
    "        sub = fig.add_subplot(rows, cols, i + 1)\n",
    "        sub.imshow(imgs[i][0].permute(1,2,0).numpy(), interpolation='nearest')\n",
    "    plt.show()"
   ]
  },
  {
   "cell_type": "code",
   "execution_count": 3,
   "metadata": {},
   "outputs": [
    {
     "name": "stdout",
     "output_type": "stream",
     "text": [
      "7618\n"
     ]
    },
    {
     "data": {
      "image/png": "[encoded data removed]",
      "text/plain": [
       "<Figure size 1440x576 with 10 Axes>"
      ]
     },
     "metadata": {
      "needs_background": "light"
     },
     "output_type": "display_data"
    }
   ],
   "source": [
    "print(len(train_set))\n",
    "\n",
    "imshow_many([train_set[i] for i in range(10)])"
   ]
  },
  {
   "cell_type": "markdown",
   "metadata": {},
   "source": [
    "# Siema bieda"
   ]
  },
  {
   "cell_type": "code",
   "execution_count": 17,
   "metadata": {},
   "outputs": [
    {
     "data": {
      "text/plain": [
       "['1_100-377.png',\n",
       " '1_100-447.png',\n",
       " '1_101-684.png',\n",
       " '1_101-751.png',\n",
       " '1_102-353.png',\n",
       " '1_102-701.png',\n",
       " '1_103-253.png',\n",
       " '1_104-502.png',\n",
       " '1_107-303.png',\n",
       " '1_107-651.png']"
      ]
     },
     "execution_count": 17,
     "metadata": {},
     "output_type": "execute_result"
    }
   ],
   "source": [
    "import os\n",
    "import random\n",
    "\n",
    "def filenames(indices=[], basename=False):\n",
    "    if indices: \n",
    "        # grab specific indices\n",
    "        if basename:\n",
    "            return [os.path.basename(train_set.imgs[i][0]) for i in indices]\n",
    "        else:\n",
    "            return [train_set.imgs[i][0] for i in indices]\n",
    "    else:\n",
    "        if basename:\n",
    "            return [os.path.basename(x[0]) for x in train_set.imgs]\n",
    "        else:\n",
    "            return [x[0] for x in train_set.imgs]\n",
    "filenames(basename=True)[:10]"
   ]
  },
  {
   "cell_type": "code",
   "execution_count": 19,
   "metadata": {},
   "outputs": [
    {
     "data": {
      "text/plain": [
       "array([5, 9, 3, 2, 7, 1, 8, 9, 7, 4, 1, 5, 0, 3, 0, 3, 8, 0, 4, 4, 1, 9,\n",
       "       0, 0, 5, 3, 9, 3, 6, 1, 2, 8, 0, 7, 8, 9, 7, 6, 8, 9, 8, 8, 0, 2,\n",
       "       7, 6, 9, 7, 7, 5, 6, 3, 4, 1, 1, 2, 4, 0, 5, 7, 2, 5, 1, 8, 5, 7,\n",
       "       6, 2, 3, 2, 2, 9, 3, 1, 8, 6, 3, 8, 4, 4, 9, 5, 5, 4, 2, 0, 3, 4,\n",
       "       5, 6, 7, 0, 4, 1, 6, 9, 1, 6, 2, 6], dtype=int8)"
      ]
     },
     "execution_count": 19,
     "metadata": {},
     "output_type": "execute_result"
    }
   ],
   "source": [
    "samples = filenames()[:100]\n",
    "labels = (np.arange(100)/10).astype(np.byte)\n",
    "random.shuffle(labels)\n",
    "labels"
   ]
  },
  {
   "cell_type": "code",
   "execution_count": 20,
   "metadata": {},
   "outputs": [
    {
     "data": {
      "text/plain": [
       "[('./data/zajads_sample/1/1_110-328.png', 0),\n",
       " ('./data/zajads_sample/1/1_111-278.png', 0),\n",
       " ('./data/zajads_sample/1/1_112-377.png', 0),\n",
       " ('./data/zajads_sample/1/1_115-397.png', 0),\n",
       " ('./data/zajads_sample/1/1_115-621.png', 0)]"
      ]
     },
     "execution_count": 20,
     "metadata": {},
     "output_type": "execute_result"
    }
   ],
   "source": [
    "labeled = sorted([x for x in zip(samples, labels)], key = lambda x : x[1])\n",
    "labeled[:5]"
   ]
  },
  {
   "cell_type": "code",
   "execution_count": 25,
   "metadata": {},
   "outputs": [],
   "source": [
    "HTML_FILE_BEGINING = \"\"\"\n",
    "<!doctype html>\n",
    "\n",
    "<html lang=\"en\">\n",
    "<body>\n",
    "\"\"\"\n",
    "\n",
    "HTML_FILE_END=\"\"\"\n",
    "</body>\n",
    "</html>\n",
    "\"\"\"\n",
    "\n",
    "\n",
    "def printToHtml(data, filename='out.html'):\n",
    "    with open('out.html', 'w+') as f:\n",
    "        f.write(HTML_FILE_BEGINING)\n",
    "        _,last_group = data[0]\n",
    "        for fname,group in data :\n",
    "            if group != last_group :\n",
    "                f.write(\"<HR>\")\n",
    "                last_group = group\n",
    "            f.write(\"<img src=\\\"{0}\\\" alt=\\\"{1}\\\">\".format(fname, fname))\n",
    "        \n",
    "        f.write(HTML_FILE_END)"
   ]
  },
  {
   "cell_type": "code",
   "execution_count": 27,
   "metadata": {},
   "outputs": [],
   "source": [
    "printToHtml(labeled)"
   ]
  },
  {
   "cell_type": "code",
   "execution_count": null,
   "metadata": {},
   "outputs": [],
   "source": []
  }
 ],
 "metadata": {
  "kernelspec": {
   "display_name": "Python 3",
   "language": "python",
   "name": "python3"
  },
  "language_info": {
   "codemirror_mode": {
    "name": "ipython",
    "version": 3
   },
   "file_extension": ".py",
   "mimetype": "text/x-python",
   "name": "python",
   "nbconvert_exporter": "python",
   "pygments_lexer": "ipython3",
   "version": "3.7.4"
  }
 },
 "nbformat": 4,
 "nbformat_minor": 4
}
