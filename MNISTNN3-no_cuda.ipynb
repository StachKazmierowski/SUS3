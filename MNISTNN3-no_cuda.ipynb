{
 "cells": [
  {
   "cell_type": "code",
   "execution_count": 1,
   "metadata": {
    "collapsed": false,
    "jupyter": {
     "outputs_hidden": false
    },
    "pycharm": {
     "name": "#%%\n"
    }
   },
   "outputs": [],
   "source": [
    "import numpy as np # to handle matrix and data operation\n",
    "import pandas as pd # to read csv and handle dataframe\n",
    "\n",
    "import torch\n",
    "from torch import nn, optim\n",
    "import torch.nn.functional as F\n",
    "import torch.utils.data\n",
    "from time import time\n",
    "from torchvision import datasets, transforms\n",
    "from torch.autograd import Variable\n",
    "\n",
    "from sklearn.model_selection import train_test_split\n",
    "\n",
    "if torch.cuda.is_available() :\n",
    "    device = \"cuda:0\"\n",
    "    print(\"detected cuda device\")\n",
    "    torch.set_default_tensor_type(torch.cuda.FloatTensor)\n",
    "else :\n",
    "    device = \"cpu\"\n",
    "    torch.set_default_tensor_type(torch.FloatTensor)\n",
    "    \n",
    "\n",
    "BATCH_SIZE = 32\n",
    "\n",
    "transform = transforms.Compose([transforms.ToTensor(),\n",
    "                              transforms.Normalize((0.5,), (0.5,)),\n",
    "                              ])\n",
    "\n",
    "trainset = datasets.MNIST('./data/train', download=True, train=True, transform=transform)\n",
    "valset = datasets.MNIST('./data/test', download=True, train=False, transform=transform)\n",
    "trainloader = torch.utils.data.DataLoader(trainset, batch_size=BATCH_SIZE, shuffle=True)\n",
    "valloader = torch.utils.data.DataLoader(valset, batch_size=BATCH_SIZE, shuffle=True)\n"
   ]
  },
  {
   "cell_type": "code",
   "execution_count": 6,
   "metadata": {
    "collapsed": false,
    "jupyter": {
     "outputs_hidden": false
    },
    "pycharm": {
     "name": "#%%\n"
    }
   },
   "outputs": [
    {
     "name": "stdout",
     "output_type": "stream",
     "text": [
      "Net(\n",
      "  (conv1): Conv2d(1, 8, kernel_size=(3, 3), stride=(1, 1))\n",
      "  (conv2): Conv2d(8, 16, kernel_size=(2, 2), stride=(1, 1))\n",
      "  (pool1): MaxPool2d(kernel_size=2, stride=2, padding=0, dilation=1, ceil_mode=False)\n",
      "  (pool2): MaxPool2d(kernel_size=2, stride=2, padding=0, dilation=1, ceil_mode=False)\n",
      "  (linear2): Linear(in_features=576, out_features=10, bias=True)\n",
      ")\n"
     ]
    }
   ],
   "source": [
    "class Net(nn.Module):\n",
    "    def __init__(self, device):\n",
    "        super(Net, self).__init__()\n",
    "        self.conv1 = nn.Conv2d(1, 8, kernel_size=3)\n",
    "        self.conv2 = nn.Conv2d(8, 16, kernel_size=2)\n",
    "        self.pool1 = nn.MaxPool2d(2,2)\n",
    "        self.pool2 = nn.MaxPool2d(2,2)\n",
    "        self.linear2 = nn.Linear(6 * 6 * 16, 10)\n",
    "\n",
    "    def forward(self,X):\n",
    "        X = self.pool1(F.relu(self.conv1(X)))\n",
    "        X = self.pool2(F.relu(self.conv2(X)))\n",
    "        X = X.view(-1, 6 * 6 * 16)\n",
    "        X = self.linear2(X)\n",
    "        return X\n",
    "    \n",
    "    def forward_features(self, X):\n",
    "        X = self.pool1(F.relu(self.conv1(X)))\n",
    "        X = self.pool2(F.relu(self.conv2(X)))\n",
    "        return X\n",
    "\n",
    "model = Net(device=device)\n",
    "print(model)"
   ]
  },
  {
   "cell_type": "code",
   "execution_count": 7,
   "metadata": {
    "collapsed": false,
    "jupyter": {
     "outputs_hidden": false
    },
    "pycharm": {
     "name": "#%%\n"
    }
   },
   "outputs": [
    {
     "name": "stdout",
     "output_type": "stream",
     "text": [
      "torch.Size([32, 1, 28, 28])\n"
     ]
    }
   ],
   "source": [
    "criterion = nn.CrossEntropyLoss()\n",
    "images, labels = next(iter(trainloader))\n",
    "print(images.shape)\n",
    "logps = model(images.to(device)) #log probabilities\n",
    "loss = criterion(logps, labels.to(device)) #calculate t"
   ]
  },
  {
   "cell_type": "code",
   "execution_count": 8,
   "metadata": {
    "collapsed": false,
    "jupyter": {
     "outputs_hidden": false
    },
    "pycharm": {
     "name": "#%%\n"
    }
   },
   "outputs": [],
   "source": [
    "def accuracy(testloader, epoch):\n",
    "    correct = 0\n",
    "    total = 0\n",
    "    with torch.no_grad():\n",
    "        for data in testloader:\n",
    "            images, labels = data[0].to(device), data[1].to(device)\n",
    "            outputs= model(images)\n",
    "            _, predicted = torch.max(outputs.data, 1)\n",
    "            total += labels.size(0)\n",
    "            correct += (predicted == labels).sum().item()\n",
    "        print(\"Accuracy\", 100 * correct / total)\n",
    "        return 100 * correct / total\n",
    "\n",
    "# accuracy(valloader, 0)"
   ]
  },
  {
   "cell_type": "code",
   "execution_count": 9,
   "metadata": {
    "collapsed": false,
    "jupyter": {
     "outputs_hidden": false
    },
    "pycharm": {
     "name": "#%%\n"
    }
   },
   "outputs": [
    {
     "name": "stdout",
     "output_type": "stream",
     "text": [
      "Epoch 0 - Training loss: 0.3261755413154761\n",
      "Epoch 0 - Validation loss: 0.1076608558718008\n",
      "on train set:\n",
      "Accuracy 96.085\n",
      "on test set:\n",
      "Accuracy 96.59\n",
      "Epoch 1 - Training loss: 0.1050997703710571\n",
      "Epoch 1 - Validation loss: 0.07992143954668111\n",
      "on train set:\n",
      "Accuracy 97.37833333333333\n",
      "on test set:\n",
      "Accuracy 97.44\n",
      "\n",
      "Training Time (in minutes) = 0.741323959827423\n"
     ]
    }
   ],
   "source": [
    "optimizer = optim.SGD(model.parameters(), lr=0.003, momentum=0.9)\n",
    "time0 = time()\n",
    "epochs = 2\n",
    "for e in range(epochs):\n",
    "    running_loss = 0\n",
    "    running_val_loss = 0\n",
    "    for images, labels in trainloader:\n",
    "        images, labels = images.to(device), labels.to(device)\n",
    "        optimizer.zero_grad()\n",
    "\n",
    "        output = model(images)\n",
    "        loss = criterion(output, labels)\n",
    "\n",
    "        loss.backward()\n",
    "\n",
    "        optimizer.step()\n",
    "\n",
    "        running_loss += loss.item()\n",
    "    for images, labels in valloader:\n",
    "        images, labels = images.to(device), labels.to(device)\n",
    "        output = model(images)\n",
    "        loss = criterion(output, labels)\n",
    "        running_val_loss += loss.item()\n",
    "    else:\n",
    "        print(\"Epoch {} - Training loss: {}\".format(e, running_loss/len(trainloader)))\n",
    "        print(\"Epoch {} - Validation loss: {}\".format(e, running_val_loss/len(valloader)))\n",
    "        print(\"on train set:\")\n",
    "        accuracy(trainloader, e)\n",
    "        print(\"on test set:\")\n",
    "        accuracy(valloader, e)\n",
    "print(\"\\nTraining Time (in minutes) =\",(time()-time0)/60)"
   ]
  },
  {
   "cell_type": "code",
   "execution_count": 6,
   "metadata": {
    "collapsed": false,
    "jupyter": {
     "outputs_hidden": false
    },
    "pycharm": {
     "name": "#%%\n"
    }
   },
   "outputs": [],
   "source": [
    "PATH = './mnist_net'\n",
    "torch.save(model.state_dict(), PATH)"
   ]
  },
  {
   "cell_type": "markdown",
   "metadata": {
    "pycharm": {
     "name": "#%% md\n"
    }
   },
   "source": [
    "Poniżej dane wskazujące na przetrenowania\n",
    "\n",
    "\n",
    "Epoch 0 - Training loss: 0.3483577066699664\n",
    "Epoch 0 - Training loss: 0.10861856871233962\n",
    "on train set:\n",
    "Accuracy 96.57\n",
    "on test set:\n",
    "Accuracy 96.76\n",
    "Epoch 1 - Training loss: 0.10320847239891688\n",
    "Epoch 1 - Training loss: 0.07951102484338962\n",
    "on train set:\n",
    "Accuracy 97.55\n",
    "on test set:\n",
    "Accuracy 97.52\n",
    "Epoch 2 - Training loss: 0.07951653525431951\n",
    "Epoch 2 - Training loss: 0.06962830385270591\n",
    "on train set:\n",
    "Accuracy 97.98\n",
    "on test set:\n",
    "Accuracy 97.79\n",
    "Epoch 3 - Training loss: 0.06738914438883463\n",
    "Epoch 3 - Training loss: 0.05580564471669852\n",
    "on train set:\n",
    "Accuracy 98.35833333333333\n",
    "on test set:\n",
    "Accuracy 98.2"
   ]
  },
  {
   "cell_type": "code",
   "execution_count": 20,
   "metadata": {},
   "outputs": [
    {
     "data": {
      "image/png": "[encoded data removed]",
      "text/plain": [
       "<Figure size 1440x576 with 10 Axes>"
      ]
     },
     "metadata": {
      "needs_background": "light"
     },
     "output_type": "display_data"
    }
   ],
   "source": [
    "import torch\n",
    "import torchvision\n",
    "from torchvision import datasets, transforms\n",
    "from torch.utils import data\n",
    "import matplotlib.pyplot as plt\n",
    "import numpy as np\n",
    "from torch.autograd import Variable\n",
    "from torch.nn import Linear, ReLU, CrossEntropyLoss, Sequential, Conv2d, MaxPool2d, Module, Softmax, BatchNorm2d, Dropout\n",
    "from torch.optim import Adam, SGD\n",
    "from torchvision import models\n",
    "\n",
    "train_set = datasets.ImageFolder(root = './data/zajads_sample',\n",
    "                transform = transforms.Compose([\n",
    "                    transforms.Grayscale(),\n",
    "                    transforms.ToTensor()\n",
    "                ]))\n",
    "\n",
    "def imshow(data):\n",
    "    for img,_ in data:\n",
    "        plt.imshow(img[0].numpy())\n",
    "        plt.show()\n",
    "\n",
    "\n",
    "def imshow_many(imgs):\n",
    "    n = len(imgs)\n",
    "    if n < 20:\n",
    "        cols = 5\n",
    "        rows = int((n + 4) / 5)\n",
    "        fig = plt.figure(figsize=(cols * 4, rows * 4))\n",
    "    else:\n",
    "        cols = 10\n",
    "        rows = int((n + 9) / 10)\n",
    "        fig = plt.figure(figsize=(cols * 2, rows * 2))\n",
    "\n",
    "    for i in range(n):\n",
    "        sub = fig.add_subplot(rows, cols, i + 1)\n",
    "        sub.imshow(imgs[i][0][0].numpy(), interpolation='nearest')\n",
    "    plt.show()\n",
    "    \n",
    "imshow_many([train_set[i] for i in range(10)])\n",
    "plt.show()"
   ]
  },
  {
   "cell_type": "code",
   "execution_count": 37,
   "metadata": {},
   "outputs": [
    {
     "data": {
      "text/plain": [
       "torch.Size([1, 12, 10])"
      ]
     },
     "execution_count": 37,
     "metadata": {},
     "output_type": "execute_result"
    }
   ],
   "source": [
    "x = train_set[0][0]\n",
    "x.shape"
   ]
  },
  {
   "cell_type": "code",
   "execution_count": 38,
   "metadata": {},
   "outputs": [
    {
     "data": {
      "text/plain": [
       "torch.Size([1, 16, 2, 1])"
      ]
     },
     "execution_count": 38,
     "metadata": {},
     "output_type": "execute_result"
    }
   ],
   "source": [
    "model.forward_features(x.reshape((1,1,12,10))).shape"
   ]
  },
  {
   "cell_type": "code",
   "execution_count": 39,
   "metadata": {},
   "outputs": [],
   "source": [
    "y = model.forward_features(x.reshape((1,1,12,10))).mean(dim=3).mean(dim=2)[0]"
   ]
  },
  {
   "cell_type": "code",
   "execution_count": 40,
   "metadata": {},
   "outputs": [
    {
     "data": {
      "text/plain": [
       "tensor([1.7784, 0.0000, 3.5374, 0.0000, 0.0000, 0.0000, 0.0000, 0.0000, 1.6234,\n",
       "        0.9218, 1.5524, 0.0464, 0.4662, 1.6038, 0.2207, 1.5665],\n",
       "       grad_fn=<SelectBackward>)"
      ]
     },
     "execution_count": 40,
     "metadata": {},
     "output_type": "execute_result"
    }
   ],
   "source": [
    "y"
   ]
  },
  {
   "cell_type": "code",
   "execution_count": 33,
   "metadata": {},
   "outputs": [],
   "source": [
    "x1 = train_set[0][0]\n",
    "x2 = train_set[1][0]"
   ]
  },
  {
   "cell_type": "code",
   "execution_count": 41,
   "metadata": {},
   "outputs": [],
   "source": [
    "y1 = model.forward_features(x1.reshape((1,1,12,10))).mean(dim=3).mean(dim=2)[0]\n",
    "y2 = model.forward_features(x2.reshape((1,1,17,12))).mean(dim=3).mean(dim=2)[0]"
   ]
  },
  {
   "cell_type": "code",
   "execution_count": 45,
   "metadata": {},
   "outputs": [
    {
     "name": "stdout",
     "output_type": "stream",
     "text": [
      "tensor([1.7784, 0.0000, 3.5374, 0.0000, 0.0000, 0.0000, 0.0000, 0.0000, 1.6234,\n",
      "        0.9218, 1.5524, 0.0464, 0.4662, 1.6038, 0.2207, 1.5665],\n",
      "       grad_fn=<SelectBackward>)\n",
      "tensor([0.8469, 0.0000, 3.1814, 0.0000, 0.0000, 0.0000, 0.0000, 0.0000, 1.3579,\n",
      "        1.6150, 0.9583, 0.0000, 0.2913, 2.0948, 0.0967, 1.5570],\n",
      "       grad_fn=<SelectBackward>)\n"
     ]
    }
   ],
   "source": [
    "print(y1)\n",
    "print(y2)"
   ]
  },
  {
   "cell_type": "code",
   "execution_count": 52,
   "metadata": {},
   "outputs": [
    {
     "data": {
      "image/png": "[encoded data removed]",
      "text/plain": [
       "<Figure size 432x288 with 1 Axes>"
      ]
     },
     "metadata": {
      "needs_background": "light"
     },
     "output_type": "display_data"
    },
    {
     "data": {
      "image/png": "[encoded data removed]",
      "text/plain": [
       "<Figure size 432x288 with 1 Axes>"
      ]
     },
     "metadata": {
      "needs_background": "light"
     },
     "output_type": "display_data"
    }
   ],
   "source": [
    "\n",
    "def plotValues(y):\n",
    "    fig = plt.figure()\n",
    "    ax = fig.add_axes([0,0,1,1])\n",
    "    ax.bar(np.arange(y.shape[0]),y.detach().numpy())\n",
    "    plt.show()\n",
    "\n",
    "plotValues(y1)\n",
    "plotValues(y2)"
   ]
  },
  {
   "cell_type": "code",
   "execution_count": 53,
   "metadata": {},
   "outputs": [
    {
     "data": {
      "image/png": "[encoded data removed]",
      "text/plain": [
       "<Figure size 432x288 with 1 Axes>"
      ]
     },
     "metadata": {
      "needs_background": "light"
     },
     "output_type": "display_data"
    }
   ],
   "source": [
    "x3 = train_set[4][0]\n",
    "y3 = model.forward_features(x3.reshape((1,1,x3.shape[-2],x3.shape[-1]))).mean(dim=3).mean(dim=2)[0]\n",
    "plotValues(y3)"
   ]
  },
  {
   "cell_type": "code",
   "execution_count": null,
   "metadata": {},
   "outputs": [],
   "source": []
  }
 ],
 "metadata": {
  "kernelspec": {
   "display_name": "Python 3",
   "language": "python",
   "name": "python3"
  },
  "language_info": {
   "codemirror_mode": {
    "name": "ipython",
    "version": 3
   },
   "file_extension": ".py",
   "mimetype": "text/x-python",
   "name": "python",
   "nbconvert_exporter": "python",
   "pygments_lexer": "ipython3",
   "version": "3.7.4"
  }
 },
 "nbformat": 4,
 "nbformat_minor": 4
}
